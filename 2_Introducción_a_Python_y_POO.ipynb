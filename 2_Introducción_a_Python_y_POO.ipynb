{
  "nbformat": 4,
  "nbformat_minor": 0,
  "metadata": {
    "colab": {
      "provenance": []
    },
    "kernelspec": {
      "name": "python3",
      "display_name": "Python 3"
    },
    "language_info": {
      "name": "python"
    }
  },
  "cells": [
    {
      "cell_type": "code",
      "source": [
        "def suma(a,b):\n",
        "    \"\"\"\n",
        "    Esta funcion calcula la suma de dos números.\n",
        "\n",
        "    Parametros:\n",
        "    a (int o float): Primer elemento.\n",
        "    b (int o float): Segundo elemento.\n",
        "\n",
        "    Esta función retorna:\n",
        "    int o float: Resultado de la suma de a y b.\n",
        "\n",
        "    \"\"\"\n",
        "    return a + b\n",
        "\n",
        "#Acceder al doctring\n",
        "print(suma.__doc__)"
      ],
      "metadata": {
        "colab": {
          "base_uri": "https://localhost:8080/"
        },
        "id": "Zxx0WtP86GjH",
        "outputId": "9462c6fb-b64b-438a-9b1a-fb36bddbd686"
      },
      "execution_count": 13,
      "outputs": [
        {
          "output_type": "stream",
          "name": "stdout",
          "text": [
            "\n",
            "    Esta funcion calcula la suma de dos números.\n",
            "\n",
            "    Parametros:\n",
            "    a (int o float): Primer elemento.\n",
            "    b (int o float): Segundo elemento.\n",
            "\n",
            "    Esta función retorna:\n",
            "    int o float: Resultado de la suma de a y b.\n",
            "\n",
            "    \n"
          ]
        }
      ]
    },
    {
      "cell_type": "code",
      "source": [
        "#Controles de flujo\n",
        "print(\"\"\"El control de flujo permite dirigir la ejecucuion del programa basandose en condiciones o repeticiones\"\"\")\n",
        "# \"\"\"\" se usa cuando son entradas de textro grandes"
      ],
      "metadata": {
        "colab": {
          "base_uri": "https://localhost:8080/"
        },
        "id": "ZbHxUFHOkPWJ",
        "outputId": "271ff03e-1693-42db-aa0b-c7925b4e2931"
      },
      "execution_count": null,
      "outputs": [
        {
          "output_type": "stream",
          "name": "stdout",
          "text": [
            "El control de flujo permite dirigir la ejecucuion del programa basandose en condiciones o repeticiones\n"
          ]
        }
      ]
    },
    {
      "cell_type": "code",
      "execution_count": null,
      "metadata": {
        "colab": {
          "base_uri": "https://localhost:8080/"
        },
        "id": "3_u-9RkAglpg",
        "outputId": "f07c643a-9456-4501-afcb-ebd789627f5c"
      },
      "outputs": [
        {
          "output_type": "stream",
          "name": "stdout",
          "text": [
            "Introduce tu edad68\n",
            "Adulto mayor\n"
          ]
        }
      ],
      "source": [
        "\n",
        "#Ejemplo\n",
        "edad = int(input(\"Introduce tu edad\"))\n",
        "if edad < 18:\n",
        "  print(\"Menor de edad\")\n",
        "elif 18 <= edad < 65:\n",
        "  print(\"Adulto\")\n",
        "else:\n",
        "  print(\"Adulto mayor\")"
      ]
    },
    {
      "cell_type": "markdown",
      "source": [
        "## Listas\n",
        "Una lista en Python es una estructura de datos que permite almacer múltiples elementos ordenados.\n",
        "Es una colección mutable, lo que significa que sus elemento puedes ser modificados (agregar, eliminar\n",
        "o cambiar elementos), después de su creación."
      ],
      "metadata": {
        "id": "RAa53BuY6tVX"
      }
    },
    {
      "cell_type": "markdown",
      "source": [
        "## -Caracteristicas\n",
        "Ordenadas: Los elementos tienen un indice\n",
        "\n",
        "*   Ordenadas: Los elementos tienen un índice que comienza en 0.\n",
        "*   Mutables: Pueden modificar\n",
        "su contenido.\n",
        "*   Tipos de datos mixtos: Una lista puede contener diferentes tipos de datos.\n",
        "*   Representación: Se delimitan por corchetes [] y los elementos están separados por comas.\n"
      ],
      "metadata": {
        "id": "2RcvuiP_65v-"
      }
    },
    {
      "cell_type": "code",
      "source": [
        "#Ejemplo de una lista\n",
        "mi_lista = [1, 2, 3.1, \"Intersemestral\", True]\n",
        "\n",
        "print(mi_lista[2])"
      ],
      "metadata": {
        "colab": {
          "base_uri": "https://localhost:8080/"
        },
        "id": "-tAVgQqbqJO2",
        "outputId": "b16678d4-30b9-4c6d-bea9-05cb2e0ebe77"
      },
      "execution_count": null,
      "outputs": [
        {
          "output_type": "stream",
          "name": "stdout",
          "text": [
            "3.1\n"
          ]
        }
      ]
    },
    {
      "cell_type": "code",
      "source": [
        "#Agregar un elemento\n",
        "mi_lista.append(2.2)\n",
        "print(mi_lista)"
      ],
      "metadata": {
        "colab": {
          "base_uri": "https://localhost:8080/"
        },
        "id": "HrpltZM5rJEK",
        "outputId": "263033a1-0077-452a-da3a-e7f556309934"
      },
      "execution_count": null,
      "outputs": [
        {
          "output_type": "stream",
          "name": "stdout",
          "text": [
            "[1, 2, 'Phyton', 'Intersemestral', True, 2.2]\n"
          ]
        }
      ]
    },
    {
      "cell_type": "code",
      "source": [
        "#Modificar un elemento de mi lista\n",
        "mi_lista[2] = \"Phyton\"\n",
        "\n",
        "print(mi_lista)"
      ],
      "metadata": {
        "colab": {
          "base_uri": "https://localhost:8080/"
        },
        "id": "aQpWmreEqkP2",
        "outputId": "85579b3b-a181-4a89-f864-f132556da940"
      },
      "execution_count": null,
      "outputs": [
        {
          "output_type": "stream",
          "name": "stdout",
          "text": [
            "[1, 2, 'Phyton', 'Intersemestral', True]\n"
          ]
        }
      ]
    },
    {
      "cell_type": "code",
      "source": [
        "#Eliminar un elemento\n",
        "mi_lista.remove(2)"
      ],
      "metadata": {
        "id": "GesIpbQQq3WD"
      },
      "execution_count": null,
      "outputs": []
    },
    {
      "cell_type": "code",
      "source": [
        "print(mi_lista)"
      ],
      "metadata": {
        "colab": {
          "base_uri": "https://localhost:8080/"
        },
        "id": "jLCbJQ-erlRV",
        "outputId": "6d4d462a-2c5d-451b-e837-e27843d1f564"
      },
      "execution_count": null,
      "outputs": [
        {
          "output_type": "stream",
          "name": "stdout",
          "text": [
            "['Phyton', 'Intersemestral', True, 2.2]\n"
          ]
        }
      ]
    },
    {
      "cell_type": "code",
      "source": [
        "#Longitud de la lista\n",
        "print(len(mi_lista))"
      ],
      "metadata": {
        "colab": {
          "base_uri": "https://localhost:8080/"
        },
        "id": "mTQWonpwsDmA",
        "outputId": "329a820d-e93f-42c2-d476-3e081b1f2819"
      },
      "execution_count": null,
      "outputs": [
        {
          "output_type": "stream",
          "name": "stdout",
          "text": [
            "4\n"
          ]
        }
      ]
    },
    {
      "cell_type": "markdown",
      "source": [
        "#Tuplas\n",
        "Una tupla en phyton es una estructura de datos que permite almacenar múltiples elementos ordenados, pero es inmutable, lo que significa que no se puede modificar después de su creación.\n",
        "\n",
        "\n",
        "*   Ordenada\n",
        "*   Inmutable\n",
        "*   Tipos de datos mixtos\n",
        "*   Representación: Se define entre parentesis () y sus elementos estan separados por comas.\n",
        "\n",
        "\n",
        "\n",
        "\n"
      ],
      "metadata": {
        "id": "9Qf0dTdPsOVp"
      }
    },
    {
      "cell_type": "code",
      "source": [
        "# Tupla\n",
        "mi_tupla = (1, 2, 3.1, \"Intersemestral\", True)\n",
        "print(mi_tupla)"
      ],
      "metadata": {
        "id": "7jd_yxTqslVg",
        "colab": {
          "base_uri": "https://localhost:8080/"
        },
        "outputId": "07da324e-49a7-4f15-a184-811c26c24aa7"
      },
      "execution_count": 4,
      "outputs": [
        {
          "output_type": "stream",
          "name": "stdout",
          "text": [
            "(1, 2, 3.1, 'Intersemestral', True)\n"
          ]
        }
      ]
    },
    {
      "cell_type": "code",
      "source": [
        "#Acceder a un elemento\n",
        "print(mi_tupla[0])"
      ],
      "metadata": {
        "id": "eIjLdaIXswpN",
        "colab": {
          "base_uri": "https://localhost:8080/"
        },
        "outputId": "b28b190b-5543-45c3-a55a-95e9cb2b519d"
      },
      "execution_count": 5,
      "outputs": [
        {
          "output_type": "stream",
          "name": "stdout",
          "text": [
            "1\n"
          ]
        }
      ]
    },
    {
      "cell_type": "code",
      "source": [
        "#Longitud de la tupla\n",
        "print(len(mi_tupla))"
      ],
      "metadata": {
        "id": "n_AsyUJhs5nl",
        "colab": {
          "base_uri": "https://localhost:8080/"
        },
        "outputId": "29905547-85a0-40b1-db8d-b99ce5b83f87"
      },
      "execution_count": 6,
      "outputs": [
        {
          "output_type": "stream",
          "name": "stdout",
          "text": [
            "5\n"
          ]
        }
      ]
    },
    {
      "cell_type": "markdown",
      "source": [
        "## Diccionarios\n",
        "\n",
        "Los Diccionarios son colecciones de poares clave-valor. Se utilizan para almacenar datos de manera organizada, donde cada clave es única y está asociada a un valor.\n",
        "\n",
        "Los diccionarios son estructuras de datos. A diferencia de las listas y tuplas, los diccionarios no están indexados por posiciones numéricas, sino por claves que pueden ser de cualquier tipo inmutable.\n",
        "Uso\n",
        "\n",
        "\n",
        "*   Representar datos estructurados, como registros o configuraciones.\n",
        "*   Asociar identificadores únicos\n",
        "a valore.\n",
        "\n"
      ],
      "metadata": {
        "id": "rRnZFWTAtFnb"
      }
    },
    {
      "cell_type": "code",
      "source": [
        "#Crear un diccionario\n",
        "mi_diccionario = {\"nombre\": \"Juan\", \"edad\": 25, \"ciudad\": \"Madrid\"}\n",
        "print(mi_diccionario)"
      ],
      "metadata": {
        "colab": {
          "base_uri": "https://localhost:8080/"
        },
        "id": "VvuNkcUttm9t",
        "outputId": "d6bcb59f-a5a7-43e0-d43f-3f943c8b00c2"
      },
      "execution_count": 8,
      "outputs": [
        {
          "output_type": "stream",
          "name": "stdout",
          "text": [
            "{'nombre': 'Juan', 'edad': 25, 'ciudad': 'Madrid'}\n"
          ]
        }
      ]
    },
    {
      "cell_type": "code",
      "source": [
        "print(mi_diccionario[\"edad\"])"
      ],
      "metadata": {
        "colab": {
          "base_uri": "https://localhost:8080/"
        },
        "id": "X1v_NWFouMkE",
        "outputId": "02fa1c89-e2e3-48d5-b60c-89da38af7a6e"
      },
      "execution_count": 9,
      "outputs": [
        {
          "output_type": "stream",
          "name": "stdout",
          "text": [
            "25\n"
          ]
        }
      ]
    },
    {
      "cell_type": "code",
      "source": [
        "print(mi_diccionario[\"ciudad\"])"
      ],
      "metadata": {
        "colab": {
          "base_uri": "https://localhost:8080/"
        },
        "id": "xi8sEZq29xGW",
        "outputId": "ba721969-532b-4a37-df1f-d857f104d10a"
      },
      "execution_count": 10,
      "outputs": [
        {
          "output_type": "stream",
          "name": "stdout",
          "text": [
            "Madrid\n"
          ]
        }
      ]
    },
    {
      "cell_type": "code",
      "source": [
        "print(mi_diccionario[\"nombre\"])"
      ],
      "metadata": {
        "colab": {
          "base_uri": "https://localhost:8080/"
        },
        "id": "Hih8LYidua4w",
        "outputId": "eefc6472-769d-4e15-b086-624cd93d1c94"
      },
      "execution_count": null,
      "outputs": [
        {
          "output_type": "stream",
          "name": "stdout",
          "text": [
            "Juan\n"
          ]
        }
      ]
    },
    {
      "cell_type": "code",
      "source": [
        "Diccionario1 = {\"nombre\": \"Cristopher\", \"Semestre\": 9, \"Asignatura\": \"Mecanica de rocas\"}"
      ],
      "metadata": {
        "id": "s83L6h-lu_iS"
      },
      "execution_count": null,
      "outputs": []
    },
    {
      "cell_type": "code",
      "source": [
        "print(Diccionario1)"
      ],
      "metadata": {
        "colab": {
          "base_uri": "https://localhost:8080/"
        },
        "id": "IvbZpM_4vlqM",
        "outputId": "a5b28ee2-67eb-48e0-c5c6-86d9b1d32c13"
      },
      "execution_count": null,
      "outputs": [
        {
          "output_type": "stream",
          "name": "stdout",
          "text": [
            "{'nombre': 'Cristopher', 'Semestre': 9, 'Asignatura': 'Mecanica de rocas'}\n"
          ]
        }
      ]
    },
    {
      "cell_type": "code",
      "source": [
        "print(Diccionario1[\"nombre\"])"
      ],
      "metadata": {
        "colab": {
          "base_uri": "https://localhost:8080/"
        },
        "id": "7vJ0W16Nvsqy",
        "outputId": "40740c20-4091-43c7-835a-9ca84e36c519"
      },
      "execution_count": null,
      "outputs": [
        {
          "output_type": "stream",
          "name": "stdout",
          "text": [
            "Cristopher\n"
          ]
        }
      ]
    },
    {
      "cell_type": "code",
      "source": [
        "Diccionario1['Semestre'] = \"Egresado\""
      ],
      "metadata": {
        "id": "SMlaqj3Tv2Rn"
      },
      "execution_count": null,
      "outputs": []
    },
    {
      "cell_type": "code",
      "source": [
        "print(Diccionario1)"
      ],
      "metadata": {
        "colab": {
          "base_uri": "https://localhost:8080/"
        },
        "id": "MEY7ci3BwH4z",
        "outputId": "a8ad8ce5-e180-4f34-c206-4f8fa9c3e2fb"
      },
      "execution_count": null,
      "outputs": [
        {
          "output_type": "stream",
          "name": "stdout",
          "text": [
            "{'nombre': 'Cristopher', 'Semestre': 'Egresado', 'Asignatura': 'Mecanica de rocas'}\n"
          ]
        }
      ]
    },
    {
      "cell_type": "markdown",
      "source": [
        "## Módulos y paquetes\n",
        "\n",
        "Un módulo es un archivo de Phyton que contiene deficiciones y declaraciones que pueden ser utilizadas en otros programas. Un paquete es una colección de módulos organizados en directorios.\n",
        "\n",
        "Ventajas:\n",
        "*   Fomenta la reutilización de código.Elemento de lista\n",
        "*   Facilita la organización de proyectos grandesElemento de lista.\n",
        "*   Permite el uso de bibliotecas externas.\n",
        "\n",
        "Tipos de modulos:\n",
        "*   Estándar: proporcionados por python, como math, os, random.Elemento de lista\n",
        "*   Módulos personalizados: creados por el usuario para funciones específicas.\n",
        "*   Bibliotecas externas: instaladas con la herramienta conocida como pip.\n",
        "\n"
      ],
      "metadata": {
        "id": "7iGqQdu5wl_0"
      }
    },
    {
      "cell_type": "code",
      "source": [
        "import math\n",
        "print(math.sqrt(16))"
      ],
      "metadata": {
        "colab": {
          "base_uri": "https://localhost:8080/"
        },
        "id": "U7E-bOJj_RNu",
        "outputId": "9e000df4-0bc7-46ea-d159-0440d3983a67"
      },
      "execution_count": 14,
      "outputs": [
        {
          "output_type": "stream",
          "name": "stdout",
          "text": [
            "4.0\n"
          ]
        }
      ]
    },
    {
      "cell_type": "code",
      "source": [
        "# mis_utilidades.py\n",
        "def sumar(a, b):\n",
        "  return a + b\n",
        "\n",
        "\"\"\"\n",
        "\n",
        "from mis utilidades import sumar\n",
        "print(sumar(5, 3))\n",
        "\n",
        "\"\"\""
      ],
      "metadata": {
        "colab": {
          "base_uri": "https://localhost:8080/",
          "height": 35
        },
        "id": "XvGKD35P_WRe",
        "outputId": "eeecae64-030a-4c95-84dc-19deb4173dab"
      },
      "execution_count": 16,
      "outputs": [
        {
          "output_type": "execute_result",
          "data": {
            "text/plain": [
              "'\\n\\nfrom mis utilidades import sumar\\nprint(sumar(5, 3))\\n\\n'"
            ],
            "application/vnd.google.colaboratory.intrinsic+json": {
              "type": "string"
            }
          },
          "metadata": {},
          "execution_count": 16
        }
      ]
    },
    {
      "cell_type": "markdown",
      "source": [
        "## POO Programación Orientada a Objetos\n",
        "\n",
        "La POO es un pradigma que organiza el codigo en torno a objetos y clases. Permite modelar entidades del mundo real y sus interacciones.\n",
        "\n",
        "Conceptos fundamentales:\n",
        "\n",
        "\n",
        "*   Clases: Plantillas para crear objetos, que definen atributos y comportamientos.\n",
        "*   Objetos: Instancias de una clase que tienen propiedades y métodos.\n",
        "*   Encapsulamiento: Oculta los detalles internos de un objeto y exponen solo lo necesario.\n",
        "*   Herencia: Permite crear nuevas clases basadas en clases existentes.\n",
        "*   Polimorfismo: Habilidad del os objetos para responder de manera diferente al mismo método.\n",
        "\n",
        "\n",
        "Beneficios.\n",
        "*   Mejora la modularidad y reutilización de código.\n",
        "*   Facilita el mantenimiento y escalabilidad de proyectos.\n",
        "\n",
        "\n",
        "\n",
        "\n"
      ],
      "metadata": {
        "id": "sqX5e33907f7"
      }
    },
    {
      "cell_type": "code",
      "source": [
        "#Ejemplo para Clase y Objeto\n",
        "class Persona:\n",
        "  def __init__(self, nombre, edad):\n",
        "    self.nombre = nombre\n",
        "    self.edad = edad\n",
        "\n",
        "  def saludar(self):\n",
        "    print(f\"Hola, me llamo {self.nombre} y tengo {self.edad} años\")\n",
        "\n",
        "persona1 = Persona(\"Alan\", 25)\n",
        "persona1.saludar()"
      ],
      "metadata": {
        "colab": {
          "base_uri": "https://localhost:8080/"
        },
        "id": "n6P8fXun2egR",
        "outputId": "ae2b172d-33cc-4958-ad71-9a4206fbdf51"
      },
      "execution_count": 18,
      "outputs": [
        {
          "output_type": "stream",
          "name": "stdout",
          "text": [
            "Hola, me llamo Alan y tengo 25 años\n"
          ]
        }
      ]
    },
    {
      "cell_type": "code",
      "source": [
        "#Herencia\n",
        "class Estudiante(Persona):\n",
        "  def __init__(self, nombre, edad, nivel_de_poder):\n",
        "    super().__init__(nombre, edad)\n",
        "    self.nivel_de_poder = nivel_de_poder\n",
        "\n",
        "  def nivel(self):\n",
        "    print(f\"{self.nombre} tiene un nivel de poder {self.nivel_de_poder}\")\n",
        "\n",
        "estudiante1 = Estudiante(\"Alan\", 25, \"nivel 2\")\n",
        "estudiante1.saludar()\n",
        "estudiante1.nivel()"
      ],
      "metadata": {
        "id": "9S0ZPsIJ4Rgj",
        "colab": {
          "base_uri": "https://localhost:8080/"
        },
        "outputId": "574ba928-9185-4e19-90c0-4ce79823e5cf"
      },
      "execution_count": 24,
      "outputs": [
        {
          "output_type": "stream",
          "name": "stdout",
          "text": [
            "Hola, me llamo Alan y tengo 25 años\n",
            "Alan tiene un nivel de poder nivel 2\n"
          ]
        }
      ]
    }
  ]
}