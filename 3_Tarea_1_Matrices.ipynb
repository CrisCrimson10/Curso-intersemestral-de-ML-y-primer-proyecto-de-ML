{
  "nbformat": 4,
  "nbformat_minor": 0,
  "metadata": {
    "colab": {
      "provenance": []
    },
    "kernelspec": {
      "name": "python3",
      "display_name": "Python 3"
    },
    "language_info": {
      "name": "python"
    }
  },
  "cells": [
    {
      "cell_type": "markdown",
      "source": [
        "# Suma y multiplicación de matrices\n"
      ],
      "metadata": {
        "id": "TyXNkczB9o7o"
      }
    },
    {
      "cell_type": "code",
      "source": [
        "A = [[1, 2], [3, 4]]\n",
        "B = [[5, 6], [7, 8]]"
      ],
      "metadata": {
        "id": "r1AwBF6K9w6p"
      },
      "execution_count": null,
      "outputs": []
    },
    {
      "cell_type": "code",
      "source": [
        "#SUMA DE MATRICES\n",
        "def sumar_matrices(m1, m2):\n",
        "  if len(m1) == len(m2) and len(m1[0]) == len(m2[0]):\n",
        "    m3 = []\n",
        "    for i in range(len(m1)):\n",
        "      m3.append([])\n",
        "      for j in range(len(m1[0])):\n",
        "        m3[i].append(0)\n",
        "\n",
        "      for i in range(len(m3)):\n",
        "        for j in range(len(m3[0])):\n",
        "          m3[i][j] = m1[i][j] + m2[i][j]\n",
        "      return m3\n",
        "    else: return None\n",
        "\n",
        "C = sumar_matrices(A,B)\n",
        "\n",
        "print(\"La matriz resultante es:\")\n",
        "print(C)\n"
      ],
      "metadata": {
        "colab": {
          "base_uri": "https://localhost:8080/"
        },
        "id": "YVg4VZ7_KMxs",
        "outputId": "8bfd3fc8-cb74-4d24-9810-78c195538eae"
      },
      "execution_count": null,
      "outputs": [
        {
          "output_type": "stream",
          "name": "stdout",
          "text": [
            "La matriz resultante es:\n",
            "[[6, 8]]\n"
          ]
        }
      ]
    },
    {
      "cell_type": "code",
      "source": [
        "def sumar_matrices(A, B):\n",
        "  if len(A) == len(B) and len(A[0]) == len(B[0]):\n",
        "    C = []\n",
        "    for i in range(len(A)):\n",
        "      C.append([])\n",
        "      for j in range(len(A[0])):\n",
        "        C[i].append(0)\n",
        "\n",
        "      for i in range(len(C)):\n",
        "        for j in range(len(C[0])):\n",
        "          C[i][j] = A[i][j] + B[i][j]\n",
        "      return C\n",
        "    else: return None\n",
        "\n",
        "C = sumar_matrices(A,B)\n",
        "\n",
        "print(\"La matriz resultante es:\")\n",
        "print(C)"
      ],
      "metadata": {
        "colab": {
          "base_uri": "https://localhost:8080/"
        },
        "id": "1YZgaQMI7UqL",
        "outputId": "ea237646-d0e8-4b15-8624-9a22f0bfe905"
      },
      "execution_count": null,
      "outputs": [
        {
          "output_type": "stream",
          "name": "stdout",
          "text": [
            "La matriz resultante es:\n",
            "[[6, 8]]\n"
          ]
        }
      ]
    },
    {
      "cell_type": "code",
      "source": [
        "#MULTIPLICACIÓN DE MATRICES\n",
        "import numpy as np\n"
      ],
      "metadata": {
        "id": "_tANayQfO7E2"
      },
      "execution_count": null,
      "outputs": []
    },
    {
      "cell_type": "code",
      "source": [
        "A = np.array([[1,2], [3,4]])\n",
        "B = np.array([[5,6], [7,8]])\n",
        "\n",
        "C = np.dot(A, B)\n",
        "\n",
        "print(\"La matriz resultante es:\")\n",
        "print(C)"
      ],
      "metadata": {
        "colab": {
          "base_uri": "https://localhost:8080/"
        },
        "id": "JDRiwMAH2Q_-",
        "outputId": "a8c19134-4fe0-4029-f59d-0f1e6aa19ec0"
      },
      "execution_count": null,
      "outputs": [
        {
          "output_type": "stream",
          "name": "stdout",
          "text": [
            "La matriz resultante es:\n",
            "[[19 22]\n",
            " [43 50]]\n"
          ]
        }
      ]
    },
    {
      "cell_type": "markdown",
      "source": [
        "# SOLUCIÓN CON CHAT GPT"
      ],
      "metadata": {
        "id": "EIdhqvwc5_x8"
      }
    },
    {
      "cell_type": "markdown",
      "source": [
        "MULTIPLICACIÓN DE MATRICES"
      ],
      "metadata": {
        "id": "gSHbPtEL6P9z"
      }
    },
    {
      "cell_type": "code",
      "source": [
        "# Definir las matrices A y B\n",
        "A = [[1, 2], [3, 4]]\n",
        "B = [[5, 6], [7, 8]]\n",
        "\n",
        "# Inicializar la matriz de resultado de 2x2 con ceros\n",
        "C = [[0, 0], [0, 0]]\n",
        "\n",
        "# Multiplicación de matrices\n",
        "for i in range(2):\n",
        "    for j in range(2):\n",
        "        for k in range(2):\n",
        "            C[i][j] += A[i][k] * B[k][j]\n",
        "\n",
        "print(\"Resultado de la multiplicación de matrices:\")\n",
        "for fila in C:\n",
        "    print(fila)"
      ],
      "metadata": {
        "colab": {
          "base_uri": "https://localhost:8080/"
        },
        "id": "6CllsZOn6WIL",
        "outputId": "dbcbd7d8-3413-4373-da9d-2c2b8114be12"
      },
      "execution_count": null,
      "outputs": [
        {
          "output_type": "stream",
          "name": "stdout",
          "text": [
            "Resultado de la multiplicación de matrices:\n",
            "[19, 22]\n",
            "[43, 50]\n"
          ]
        }
      ]
    },
    {
      "cell_type": "markdown",
      "source": [
        "SUMA DE MATRICES"
      ],
      "metadata": {
        "id": "6QHgDtw26ZaT"
      }
    },
    {
      "cell_type": "code",
      "source": [
        "# Inicializar la matriz de suma de 2x2\n",
        "D = [[0, 0], [0, 0]]\n",
        "\n",
        "# Suma de matrices\n",
        "for i in range(2):\n",
        "    for j in range(2):\n",
        "        D[i][j] = A[i][j] + B[i][j]\n",
        "\n",
        "print(\"\\nResultado de la suma de matrices:\")\n",
        "for fila in D:\n",
        "    print(fila)"
      ],
      "metadata": {
        "colab": {
          "base_uri": "https://localhost:8080/"
        },
        "id": "JU9IwWAG6b5j",
        "outputId": "d90948bf-37c7-4cff-f975-ca7eab6cf927"
      },
      "execution_count": null,
      "outputs": [
        {
          "output_type": "stream",
          "name": "stdout",
          "text": [
            "\n",
            "Resultado de la suma de matrices:\n",
            "[6, 8]\n",
            "[10, 12]\n"
          ]
        }
      ]
    }
  ]
}