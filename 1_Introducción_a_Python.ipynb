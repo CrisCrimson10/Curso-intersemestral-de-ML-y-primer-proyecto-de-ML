{
  "nbformat": 4,
  "nbformat_minor": 0,
  "metadata": {
    "colab": {
      "provenance": []
    },
    "kernelspec": {
      "name": "python3",
      "display_name": "Python 3"
    },
    "language_info": {
      "name": "python"
    }
  },
  "cells": [
    {
      "cell_type": "code",
      "execution_count": null,
      "metadata": {
        "colab": {
          "base_uri": "https://localhost:8080/"
        },
        "id": "8VjJzd1DaT8v",
        "outputId": "d86b9bf3-30e0-4f5d-ff9a-a9b452aadfa2"
      },
      "outputs": [
        {
          "output_type": "stream",
          "name": "stdout",
          "text": [
            "Hola mundo\n"
          ]
        }
      ],
      "source": [
        "#Sintaxis basica\n",
        "print(\"Hola mundo\")"
      ]
    },
    {
      "cell_type": "code",
      "source": [
        "#Variables\n",
        "nombre = \"Cristopher\"\n",
        "edad = 23"
      ],
      "metadata": {
        "id": "IcxtOXZWbWca"
      },
      "execution_count": null,
      "outputs": []
    },
    {
      "cell_type": "code",
      "source": [
        "print(nombre)"
      ],
      "metadata": {
        "colab": {
          "base_uri": "https://localhost:8080/"
        },
        "id": "DACk9nr_br_W",
        "outputId": "94778d25-2bd4-47e0-fae8-9c20700ce98f"
      },
      "execution_count": null,
      "outputs": [
        {
          "output_type": "stream",
          "name": "stdout",
          "text": [
            "Cristopher\n"
          ]
        }
      ]
    },
    {
      "cell_type": "code",
      "source": [
        "print(edad)"
      ],
      "metadata": {
        "colab": {
          "base_uri": "https://localhost:8080/"
        },
        "id": "5g5gG0FxbzYP",
        "outputId": "78562f72-247d-4b4e-c470-31523c387695"
      },
      "execution_count": null,
      "outputs": [
        {
          "output_type": "stream",
          "name": "stdout",
          "text": [
            "23\n"
          ]
        }
      ]
    },
    {
      "cell_type": "code",
      "source": [
        "#Datos basicos\n",
        "entero = 10\n",
        "#float numeros decimales\n",
        "decimal = 3.1416\n",
        "#str cadenas de texto\n",
        "texto = intersemestral\n",
        "#bool valores logicos (True, False)\n",
        "logico = True\n",
        "booleano = False"
      ],
      "metadata": {
        "id": "a1H_FNfncah-"
      },
      "execution_count": null,
      "outputs": []
    },
    {
      "cell_type": "code",
      "source": [
        "X = \"Cristopher\""
      ],
      "metadata": {
        "id": "21MCOZAaeO03"
      },
      "execution_count": null,
      "outputs": []
    },
    {
      "cell_type": "code",
      "source": [
        "print(X)"
      ],
      "metadata": {
        "colab": {
          "base_uri": "https://localhost:8080/"
        },
        "id": "AOpQyRsreh1X",
        "outputId": "7f727268-16a1-42c9-b943-23f708231a9a"
      },
      "execution_count": null,
      "outputs": [
        {
          "output_type": "stream",
          "name": "stdout",
          "text": [
            "Cristopher\n"
          ]
        }
      ]
    },
    {
      "cell_type": "code",
      "source": [
        "import pandas as pd\n"
      ],
      "metadata": {
        "id": "M0E1gnNmfjSH"
      },
      "execution_count": null,
      "outputs": []
    },
    {
      "cell_type": "code",
      "source": [
        "#Operadores\n",
        "suma = 5 + 3\n",
        "resta = 5 - 3\n",
        "multiplicacion = 5 * 3\n",
        "division = 5 / 3\n",
        "division_entera = 5 // 3\n",
        "potencia = 5 ** 3\n",
        "modulo = 5 % 3"
      ],
      "metadata": {
        "id": "vJB1kRy3gH08"
      },
      "execution_count": null,
      "outputs": []
    },
    {
      "cell_type": "code",
      "source": [
        "print(suma)\n",
        "print(resta)\n",
        "print(multiplicacion)\n",
        "print(division)\n",
        "print(division_entera)\n",
        "print(potencia)\n",
        "print(modulo)"
      ],
      "metadata": {
        "colab": {
          "base_uri": "https://localhost:8080/"
        },
        "id": "WJJG7MU2hEun",
        "outputId": "84c0f1be-dece-407e-ca74-1fcb9d239130"
      },
      "execution_count": null,
      "outputs": [
        {
          "output_type": "stream",
          "name": "stdout",
          "text": [
            "8\n",
            "2\n",
            "15\n",
            "1.6666666666666667\n",
            "1\n",
            "125\n",
            "2\n"
          ]
        }
      ]
    },
    {
      "cell_type": "code",
      "source": [
        "#Operadores relacionales\n",
        "print(5 > 3) #true\n",
        "print(5 == 3) #falso\n",
        "print(5 <= 5) #true"
      ],
      "metadata": {
        "colab": {
          "base_uri": "https://localhost:8080/"
        },
        "id": "Uta1hH-mjX3E",
        "outputId": "5590b1df-d4e6-416a-9d3e-3ad933771273"
      },
      "execution_count": null,
      "outputs": [
        {
          "output_type": "stream",
          "name": "stdout",
          "text": [
            "True\n",
            "False\n",
            "True\n"
          ]
        }
      ]
    },
    {
      "cell_type": "code",
      "source": [
        "#Operadores logicos\n",
        "print(True and False) #Falso\n",
        "print(True or False) #True\n",
        "print(not True) #Falso"
      ],
      "metadata": {
        "colab": {
          "base_uri": "https://localhost:8080/"
        },
        "id": "31HzDMSAj3S1",
        "outputId": "2e254d6f-0212-4424-a33f-f0e85fddeab6"
      },
      "execution_count": null,
      "outputs": [
        {
          "output_type": "stream",
          "name": "stdout",
          "text": [
            "False\n",
            "True\n",
            "False\n"
          ]
        }
      ]
    },
    {
      "cell_type": "code",
      "source": [
        "#Estructuras de control\n",
        "#Condicionales que permiten tomar decisiones basadas en condiciones\n",
        "if edad >= 18:\n",
        "  print(\"eres mayor de edad\")\n",
        "  print(\"puedes beber\")\n",
        "else:\n",
        "  print(\"eres menor de edad\")"
      ],
      "metadata": {
        "colab": {
          "base_uri": "https://localhost:8080/"
        },
        "id": "2mOb6B7rkWil",
        "outputId": "5cf05a9d-bf6e-46cb-f219-2fecd3a52cbe"
      },
      "execution_count": null,
      "outputs": [
        {
          "output_type": "stream",
          "name": "stdout",
          "text": [
            "eres mayor de edad\n",
            "puedes beber\n"
          ]
        }
      ]
    },
    {
      "cell_type": "code",
      "source": [
        "#Bucles\n",
        "#El bucle for se utiliza sobre una secuencia (Listas, Rangos, etc.)\n",
        "for i in range(10):\n",
        "  print(i)"
      ],
      "metadata": {
        "colab": {
          "base_uri": "https://localhost:8080/"
        },
        "id": "rOvnV6eInnoU",
        "outputId": "bb1da4b3-e879-4a6a-f27c-c2dff92fbc5c"
      },
      "execution_count": null,
      "outputs": [
        {
          "output_type": "stream",
          "name": "stdout",
          "text": [
            "0\n",
            "1\n",
            "2\n",
            "3\n",
            "4\n",
            "5\n",
            "6\n",
            "7\n",
            "8\n",
            "9\n"
          ]
        }
      ]
    },
    {
      "cell_type": "code",
      "source": [
        "#Bucle while\n",
        "#Repite mientras una concidion sea verdadera\n",
        "contador = 0\n",
        "while contador < 5:\n",
        "  print(contador)\n",
        "  contador += 1"
      ],
      "metadata": {
        "colab": {
          "base_uri": "https://localhost:8080/"
        },
        "id": "UJwjDYSVpPsl",
        "outputId": "bb2aea91-9cd0-4351-8db8-081399dc3d92"
      },
      "execution_count": null,
      "outputs": [
        {
          "output_type": "stream",
          "name": "stdout",
          "text": [
            "0\n",
            "1\n",
            "2\n",
            "3\n",
            "4\n"
          ]
        }
      ]
    },
    {
      "cell_type": "markdown",
      "source": [
        "Ejercicio Práctico"
      ],
      "metadata": {
        "id": "gx-eKgQArZoS"
      }
    },
    {
      "cell_type": "code",
      "source": [
        "#Problema: Escribe un programa que\n",
        "#Solicite al usuario su nombre y edad\n",
        "#Determine si es mayor o menor de edad\n",
        "#Imprima un mensaje personalisado"
      ],
      "metadata": {
        "id": "P7CZ1sslqyTS"
      },
      "execution_count": null,
      "outputs": []
    },
    {
      "cell_type": "code",
      "source": [
        "\n",
        "name = input(\"Introduzca su nombre:\")\n",
        "date = int(input(\"Introduce tu edad:\"))\n",
        "if date >= 18:\n",
        "  print(f\"Hola {name}, eres mayor de edad\")\n",
        "else:\n",
        "  print(f\"Hola {name}, come frutas y verduras\")\n",
        "\n",
        "\n"
      ],
      "metadata": {
        "colab": {
          "base_uri": "https://localhost:8080/"
        },
        "id": "wxtgtcWhrhgb",
        "outputId": "555d3a2e-8bbe-498c-c777-5a449479d026"
      },
      "execution_count": null,
      "outputs": [
        {
          "output_type": "stream",
          "name": "stdout",
          "text": [
            "Introduzca su nombre:Cristopher\n",
            "Introduce tu edad:23\n",
            "Hola Cristopher, eres mayor de edad\n"
          ]
        }
      ]
    }
  ]
}