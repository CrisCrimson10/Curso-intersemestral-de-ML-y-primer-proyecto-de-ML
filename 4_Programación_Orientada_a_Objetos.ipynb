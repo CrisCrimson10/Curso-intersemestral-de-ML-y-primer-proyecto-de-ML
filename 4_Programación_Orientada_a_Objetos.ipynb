{
  "nbformat": 4,
  "nbformat_minor": 0,
  "metadata": {
    "colab": {
      "provenance": []
    },
    "kernelspec": {
      "name": "python3",
      "display_name": "Python 3"
    },
    "language_info": {
      "name": "python"
    }
  },
  "cells": [
    {
      "cell_type": "markdown",
      "source": [
        "# **Ejemplo: Futbol**\n",
        "##**Definición de la clase y creación de objetos**"
      ],
      "metadata": {
        "id": "IMGzbe7FCPHW"
      }
    },
    {
      "cell_type": "code",
      "execution_count": 1,
      "metadata": {
        "colab": {
          "base_uri": "https://localhost:8080/"
        },
        "id": "OBkSCNh_Bqjz",
        "outputId": "b23cd05e-faf1-4131-d740-5cbd3e0a5155"
      },
      "outputs": [
        {
          "output_type": "stream",
          "name": "stdout",
          "text": [
            "Lionel Messi juega como Delantero en Inter Miami y ha marcado 2 goles.\n",
            "Cristiano Ronaldo juega como Delantero en Al Nassr y ha marcado 1 goles.\n"
          ]
        }
      ],
      "source": [
        "#Ejemplo Futbol\n",
        "# Definimos la clase Jugador\n",
        "\n",
        "class Jugador:\n",
        "    # Constructor: inicializa los atributos del objeto\n",
        "    def __init__(self, nombre, equipo, posicion):\n",
        "        self.nombre = nombre         # Nombre del jugador\n",
        "        self.equipo = equipo         # Equipo al que pertenece\n",
        "        self.posicion = posicion     # Posición en el campo\n",
        "        self.goles = 0               # Número de goles (inicia en 0)\n",
        "\n",
        "    # Método para que el jugador marque un gol\n",
        "    def marcar_gol(self):\n",
        "        self.goles += 1  # Incrementa la cuenta de goles\n",
        "\n",
        "    # Método para mostrar la información del jugador\n",
        "    def mostrar_info(self):\n",
        "        return f\"{self.nombre} juega como {self.posicion} en {self.equipo} y ha marcado {self.goles} goles.\"\n",
        "\n",
        "# Creamos instancias de la clase (objetos)\n",
        "messi = Jugador(\"Lionel Messi\", \"Inter Miami\", \"Delantero\")  # Objeto 1\n",
        "ronaldo = Jugador(\"Cristiano Ronaldo\", \"Al Nassr\", \"Delantero\")  # Objeto 2\n",
        "\n",
        "# Usamos métodos en los objetos\n",
        "messi.marcar_gol()  # Messi marca 1 gol\n",
        "messi.marcar_gol()  # Messi marca otro gol\n",
        "ronaldo.marcar_gol()  # Ronaldo marca 1 gol\n",
        "\n",
        "# Mostramos la información de los jugadores\n",
        "print(messi.mostrar_info())  # Lionel Messi juega como Delantero en Inter Miami y ha marcado 2 goles.\n",
        "print(ronaldo.mostrar_info())  # Cristiano Ronaldo juega como Delantero en Al Nassr y ha marcado 1 gol.\n",
        "\n"
      ]
    },
    {
      "cell_type": "markdown",
      "source": [
        "## Herencia: Entrenadores y Árbitros"
      ],
      "metadata": {
        "id": "5Vbau50pCdZ9"
      }
    },
    {
      "cell_type": "code",
      "source": [
        "# Clase base: Persona\n",
        "class Persona:\n",
        "    # Constructor para inicializar atributos comunes\n",
        "    def __init__(self, nombre, edad):\n",
        "        self.nombre = nombre\n",
        "        self.edad = edad\n",
        "\n",
        "# Clase derivada: Entrenador\n",
        "class Entrenador(Persona):\n",
        "    def __init__(self, nombre, edad, equipo):\n",
        "        super().__init__(nombre, edad)  # Llamamos al constructor de la clase base\n",
        "        self.equipo = equipo\n",
        "\n",
        "    # Método específico de los entrenadores\n",
        "    def motivar(self):\n",
        "        return f\"{self.nombre}: '¡Vamos {self.equipo}! ¡Podemos ganar!'\"\n",
        "\n",
        "# Clase derivada: Árbitro\n",
        "class Arbitro(Persona):\n",
        "    def __init__(self, nombre, edad):\n",
        "        super().__init__(nombre, edad)  # Llamamos al constructor de la clase base\n",
        "\n",
        "    # Método específico de los árbitros\n",
        "    def pitar_falta(self):\n",
        "        return f\"{self.nombre}: '¡Falta!'\"\n",
        "\n",
        "# Creamos instancias de las clases derivadas\n",
        "pep = Entrenador(\"Pep Guardiola\", 50, \"Manchester City\")  # Objeto de tipo Entrenador\n",
        "arbitro = Arbitro(\"Pierluigi Collina\", 60)  # Objeto de tipo Árbitro\n",
        "\n",
        "# Llamamos a los métodos específicos\n",
        "print(pep.motivar())  # Pep Guardiola: '¡Vamos Manchester City! ¡Podemos ganar!'\n",
        "print(arbitro.pitar_falta())  # Pierluigi Collina: '¡Falta!'\n",
        "\n"
      ],
      "metadata": {
        "colab": {
          "base_uri": "https://localhost:8080/"
        },
        "id": "ts-rcMcYCh0F",
        "outputId": "e01b7ecd-ad24-4e25-d8de-09e8bcb2578d"
      },
      "execution_count": 2,
      "outputs": [
        {
          "output_type": "stream",
          "name": "stdout",
          "text": [
            "Pep Guardiola: '¡Vamos Manchester City! ¡Podemos ganar!'\n",
            "Pierluigi Collina: '¡Falta!'\n"
          ]
        }
      ]
    },
    {
      "cell_type": "markdown",
      "source": [
        "## **Ejemplo: Marvel**\n",
        "# **Definición de superhéroes y villanos**"
      ],
      "metadata": {
        "id": "BdBa7o_DCoF1"
      }
    },
    {
      "cell_type": "code",
      "source": [
        "# Clase base: Personaje\n",
        "class Personaje:\n",
        "    # Constructor que inicializa los atributos básicos\n",
        "    def __init__(self, nombre, universo, habilidades):\n",
        "        self.nombre = nombre              # Nombre del personaje\n",
        "        self.universo = universo          # Universo al que pertenece (Marvel, DC, etc.)\n",
        "        self.habilidades = habilidades    # Lista de habilidades del personaje\n",
        "\n",
        "    # Método para mostrar las habilidades del personaje\n",
        "    def mostrar_habilidades(self):\n",
        "        return f\"{self.nombre} tiene las habilidades: {', '.join(self.habilidades)}\"\n",
        "\n",
        "# Clase derivada: Superhéroe\n",
        "class Superheroe(Personaje):\n",
        "    def __init__(self, nombre, universo, habilidades, equipo):\n",
        "        super().__init__(nombre, universo, habilidades)  # Llamamos al constructor de la clase base\n",
        "        self.equipo = equipo  # Equipo al que pertenece el superhéroe (ej., Avengers)\n",
        "\n",
        "    # Método específico de los superhéroes\n",
        "    def salvar_dia(self):\n",
        "        return f\"{self.nombre} del equipo {self.equipo} salva el día.\"\n",
        "\n",
        "# Clase derivada: Villano\n",
        "class Villano(Personaje):\n",
        "    def __init__(self, nombre, universo, habilidades, plan_maligno):\n",
        "        super().__init__(nombre, universo, habilidades)  # Llamamos al constructor de la clase base\n",
        "        self.plan_maligno = plan_maligno  # Plan maligno del villano\n",
        "\n",
        "    # Método específico de los villanos\n",
        "    def ejecutar_plan(self):\n",
        "        return f\"{self.nombre} está ejecutando su plan maligno: {self.plan_maligno}\"\n",
        "\n",
        "# Creamos instancias (objetos)\n",
        "iron_man = Superheroe(\"Iron Man\", \"Marvel\", [\"Inteligencia\", \"Armadura avanzada\"], \"Avengers\")\n",
        "thanos = Villano(\"Thanos\", \"Marvel\", [\"Superfuerza\", \"Manipulación del tiempo\"], \"Recoger las gemas del infinito\")\n",
        "\n",
        "# Llamamos a los métodos específicos\n",
        "print(iron_man.salvar_dia())  # Iron Man del equipo Avengers salva el día.\n",
        "print(thanos.ejecutar_plan())  # Thanos está ejecutando su plan maligno: Recoger las gemas del infinito.\n",
        "\n"
      ],
      "metadata": {
        "colab": {
          "base_uri": "https://localhost:8080/"
        },
        "id": "qjZaj8KzCsRV",
        "outputId": "98bfc401-ca38-4c1c-ef75-9188be8eb4a5"
      },
      "execution_count": 3,
      "outputs": [
        {
          "output_type": "stream",
          "name": "stdout",
          "text": [
            "Iron Man del equipo Avengers salva el día.\n",
            "Thanos está ejecutando su plan maligno: Recoger las gemas del infinito\n"
          ]
        }
      ]
    },
    {
      "cell_type": "markdown",
      "source": [
        "## Polimorfismo: Método común en diferentes clases"
      ],
      "metadata": {
        "id": "UhGNNLs1C9Xl"
      }
    },
    {
      "cell_type": "code",
      "source": [
        "# Método que recibe un personaje y llama a mostrar_habilidades\n",
        "def describir_personaje(personaje):\n",
        "    print(personaje.mostrar_habilidades())\n",
        "\n",
        "# Uso polimórfico con diferentes tipos de personajes\n",
        "describir_personaje(iron_man)  # Iron Man tiene las habilidades: Inteligencia, Armadura avanzada\n",
        "describir_personaje(thanos)  # Thanos tiene las habilidades: Superfuerza, Manipulación del tiempo\n",
        "\n"
      ],
      "metadata": {
        "colab": {
          "base_uri": "https://localhost:8080/"
        },
        "id": "aV6_lLsUC_09",
        "outputId": "97b867fb-3173-4bc7-9202-a3b9dfbdae18"
      },
      "execution_count": 4,
      "outputs": [
        {
          "output_type": "stream",
          "name": "stdout",
          "text": [
            "Iron Man tiene las habilidades: Inteligencia, Armadura avanzada\n",
            "Thanos tiene las habilidades: Superfuerza, Manipulación del tiempo\n"
          ]
        }
      ]
    },
    {
      "cell_type": "markdown",
      "source": [
        "### **Comentarios y Resumen**\n",
        "\n",
        "1. **Constructor (`__init__`)**:\n",
        "    - Es un método especial para inicializar los atributos del objeto al crearlo.\n",
        "    - Ejemplo: `def __init__(self, nombre, equipo): ...`\n",
        "2. **Objeto**:\n",
        "    - Es una instancia de una clase que contiene datos específicos.\n",
        "    - Ejemplo: `messi = Jugador(\"Lionel Messi\", \"Inter Miami\", \"Delantero\")`\n",
        "3. **Métodos**:\n",
        "    - Son funciones dentro de una clase que definen comportamientos.\n",
        "    - Ejemplo: `def marcar_gol(self): self.goles += 1`\n",
        "4. **Herencia**:\n",
        "    - Permite que una clase derive de otra, reutilizando atributos y métodos.\n",
        "    - Ejemplo: `class Entrenador(Persona): ...`\n",
        "5. **Polimorfismo**:\n",
        "    - Permite usar un método común en diferentes clases.\n",
        "    - Ejemplo: `describir_personaje(iron_man)`.\n"
      ],
      "metadata": {
        "id": "1UdtlwnkDHAd"
      }
    },
    {
      "cell_type": "markdown",
      "source": [
        "### **Ejemplo: Pokémon**\n",
        "\n",
        "### **Definición de Clases y Constructor**"
      ],
      "metadata": {
        "id": "R047D_LRDOdV"
      }
    },
    {
      "cell_type": "code",
      "source": [
        "# Clase base: Pokémon\n",
        "class Pokemon:\n",
        "    # Constructor: inicializa los atributos básicos\n",
        "    def __init__(self, nombre, tipo, nivel=1):\n",
        "        self.nombre = nombre  # Nombre del Pokémon\n",
        "        self.tipo = tipo      # Tipo del Pokémon (ej. Fuego, Agua, Planta)\n",
        "        self.nivel = nivel    # Nivel del Pokémon\n",
        "        self.__vida = 100     # Vida privada, no puede ser modificada directamente\n",
        "\n",
        "    # Método para mostrar información del Pokémon\n",
        "    def mostrar_info(self):\n",
        "        return f\"{self.nombre} ({self.tipo}) - Nivel {self.nivel} - Vida: {self.__vida}\"\n",
        "\n",
        "    # Método para atacar a otro Pokémon\n",
        "    def atacar(self, otro_pokemon):\n",
        "        daño = self.nivel * 10\n",
        "        otro_pokemon.__reducir_vida(daño)\n",
        "        return f\"{self.nombre} atacó a {otro_pokemon.nombre} causando {daño} puntos de daño.\"\n",
        "\n",
        "    # Método privado para reducir la vida\n",
        "    def __reducir_vida(self, cantidad):\n",
        "        self.__vida -= cantidad\n",
        "        if self.__vida < 0:\n",
        "            self.__vida = 0\n",
        "\n",
        "    # Método para subir de nivel\n",
        "    def subir_nivel(self):\n",
        "        self.nivel += 1\n",
        "        self.__vida += 20  # Aumenta la vida al subir de nivel\n",
        "\n",
        "# Crear objetos (Pokémon básicos)\n",
        "pikachu = Pokemon(\"Pikachu\", \"Eléctrico\")\n",
        "charmander = Pokemon(\"Charmander\", \"Fuego\")\n",
        "\n",
        "# Mostrar información inicial\n",
        "print(pikachu.mostrar_info())  # Pikachu (Eléctrico) - Nivel 1 - Vida: 100\n",
        "print(charmander.mostrar_info())  # Charmander (Fuego) - Nivel 1 - Vida: 100\n",
        "\n",
        "# Pikachu ataca a Charmander\n",
        "print(pikachu.atacar(charmander))  # Pikachu atacó a Charmander causando 10 puntos de daño.\n",
        "print(charmander.mostrar_info())  # Charmander (Fuego) - Nivel 1 - Vida: 90\n",
        "\n"
      ],
      "metadata": {
        "colab": {
          "base_uri": "https://localhost:8080/"
        },
        "id": "aAjV3_gIDL2t",
        "outputId": "ce0d7e17-ee2c-4682-e553-34334db25495"
      },
      "execution_count": 5,
      "outputs": [
        {
          "output_type": "stream",
          "name": "stdout",
          "text": [
            "Pikachu (Eléctrico) - Nivel 1 - Vida: 100\n",
            "Charmander (Fuego) - Nivel 1 - Vida: 100\n",
            "Pikachu atacó a Charmander causando 10 puntos de daño.\n",
            "Charmander (Fuego) - Nivel 1 - Vida: 90\n"
          ]
        }
      ]
    },
    {
      "cell_type": "markdown",
      "source": [
        "## Herencia: Tipos de Pokémon Específicos"
      ],
      "metadata": {
        "id": "DYTGsYfMDSrF"
      }
    },
    {
      "cell_type": "code",
      "source": [
        "# Clase derivada: Pokémon de tipo Agua\n",
        "class PokemonAgua(Pokemon):\n",
        "    def __init__(self, nombre, nivel=1):\n",
        "        super().__init__(nombre, \"Agua\", nivel)  # Llamamos al constructor de la clase base\n",
        "\n",
        "    # Método especial para atacar con ventaja contra Pokémon de Fuego\n",
        "    def atacar(self, otro_pokemon):\n",
        "        if otro_pokemon.tipo == \"Fuego\":\n",
        "            daño = self.nivel * 15  # Más daño contra tipo Fuego\n",
        "        else:\n",
        "            daño = self.nivel * 10\n",
        "        otro_pokemon._Pokemon__reducir_vida(daño)  # Acceso al método privado de la clase base\n",
        "        return f\"{self.nombre} atacó a {otro_pokemon.nombre} causando {daño} puntos de daño.\"\n",
        "\n",
        "# Clase derivada: Pokémon de tipo Planta\n",
        "class PokemonPlanta(Pokemon):\n",
        "    def __init__(self, nombre, nivel=1):\n",
        "        super().__init__(nombre, \"Planta\", nivel)\n",
        "\n",
        "    # Método especial para curarse\n",
        "    def curarse(self):\n",
        "        self._Pokemon__vida += 30  # Curar vida\n",
        "        return f\"{self.nombre} se ha curado. Vida actual: {self._Pokemon__vida}\"\n",
        "\n",
        "# Crear Pokémon específicos\n",
        "squirtle = PokemonAgua(\"Squirtle\", nivel=5)\n",
        "bulbasaur = PokemonPlanta(\"Bulbasaur\", nivel=3)\n",
        "\n",
        "# Squirtle ataca a Charmander con ventaja\n",
        "print(squirtle.atacar(charmander))  # Squirtle atacó a Charmander causando 75 puntos de daño.\n",
        "print(charmander.mostrar_info())  # Charmander (Fuego) - Nivel 1 - Vida: 15\n",
        "\n",
        "# Bulbasaur se cura\n",
        "print(bulbasaur.curarse())  # Bulbasaur se ha curado. Vida actual: 130\n",
        "\n"
      ],
      "metadata": {
        "colab": {
          "base_uri": "https://localhost:8080/"
        },
        "id": "lQdGCp_uDUM9",
        "outputId": "6ca32222-e007-4221-84f2-7b40934abcad"
      },
      "execution_count": 6,
      "outputs": [
        {
          "output_type": "stream",
          "name": "stdout",
          "text": [
            "Squirtle atacó a Charmander causando 75 puntos de daño.\n",
            "Charmander (Fuego) - Nivel 1 - Vida: 15\n",
            "Bulbasaur se ha curado. Vida actual: 130\n"
          ]
        }
      ]
    },
    {
      "cell_type": "markdown",
      "source": [
        "##Polimorfismo: Diferentes Métodos (atacar)\n",
        "\n",
        "El polimorfismo permite que diferentes clases implementen métodos con el mismo nombre pero comportamientos específicos.\n"
      ],
      "metadata": {
        "id": "8igDQt5wDc1l"
      }
    },
    {
      "cell_type": "code",
      "source": [
        "\n",
        "# Polimorfismo en acción\n",
        "def batalla(pokemon1, pokemon2):\n",
        "    print(pokemon1.atacar(pokemon2))\n",
        "    print(pokemon2.atacar(pokemon1))\n",
        "\n",
        "# Batalla entre Pikachu y Bulbasaur\n",
        "batalla(pikachu, bulbasaur)\n",
        "# Pikachu atacó a Bulbasaur causando 10 puntos de daño.\n",
        "# Bulbasaur atacó a Pikachu causando 30 puntos de daño.\n",
        "\n"
      ],
      "metadata": {
        "colab": {
          "base_uri": "https://localhost:8080/"
        },
        "id": "Yp3xzblrDi09",
        "outputId": "9293ecc9-78b8-42af-c7a7-fe59eda3cfa0"
      },
      "execution_count": 7,
      "outputs": [
        {
          "output_type": "stream",
          "name": "stdout",
          "text": [
            "Pikachu atacó a Bulbasaur causando 10 puntos de daño.\n",
            "Bulbasaur atacó a Pikachu causando 30 puntos de daño.\n"
          ]
        }
      ]
    },
    {
      "cell_type": "markdown",
      "source": [
        "### **Decoradores: Mejorar el Juego**\n",
        "\n",
        "Usamos decoradores para añadir lógica a métodos existentes, como registrar eventos de batalla."
      ],
      "metadata": {
        "id": "SIx9GNE4Dlvd"
      }
    },
    {
      "cell_type": "code",
      "source": [
        "# Decorador para registrar ataques\n",
        "def registrar_ataque(func):\n",
        "    def envoltura(*args, **kwargs):\n",
        "        resultado = func(*args, **kwargs)\n",
        "        print(f\"[Registro]: {resultado}\")\n",
        "        return resultado\n",
        "    return envoltura\n",
        "\n",
        "# Modificar método de ataque con decorador\n",
        "Pokemon.atacar = registrar_ataque(Pokemon.atacar)\n",
        "\n",
        "# Pikachu ataca a Squirtle\n",
        "print(pikachu.atacar(squirtle))\n",
        "# [Registro]: Pikachu atacó a Squirtle causando 10 puntos de daño.\n",
        "# Pikachu atacó a Squirtle causando 10 puntos de daño.\n",
        "\n"
      ],
      "metadata": {
        "colab": {
          "base_uri": "https://localhost:8080/"
        },
        "id": "YYZwlF5mDoet",
        "outputId": "43272967-9add-42f0-dd1f-dc7a5d03cd6e"
      },
      "execution_count": 8,
      "outputs": [
        {
          "output_type": "stream",
          "name": "stdout",
          "text": [
            "[Registro]: Pikachu atacó a Squirtle causando 10 puntos de daño.\n",
            "Pikachu atacó a Squirtle causando 10 puntos de daño.\n"
          ]
        }
      ]
    },
    {
      "cell_type": "markdown",
      "source": [
        "### **Comentarios y Resumen**\n",
        "\n",
        "1. **Constructor (`__init__`)**:\n",
        "    - Inicializa los atributos básicos, como `nombre`, `tipo` y `nivel`.\n",
        "2. **Encapsulación**:\n",
        "    - El atributo `__vida` está encapsulado para evitar modificaciones directas.\n",
        "3. **Herencia**:\n",
        "    - `PokemonAgua` y `PokemonPlanta` heredan de `Pokemon` y añaden métodos específicos (`atacar`, `curarse`).\n",
        "4. **Polimorfismo**:\n",
        "    - El método `atacar` se redefine en clases derivadas para implementar comportamientos distintos.\n",
        "5. **Decoradores**:\n",
        "    - Se usan para registrar y mejorar las acciones sin modificar el código base."
      ],
      "metadata": {
        "id": "MxE7XjOIDqrd"
      }
    }
  ]
}